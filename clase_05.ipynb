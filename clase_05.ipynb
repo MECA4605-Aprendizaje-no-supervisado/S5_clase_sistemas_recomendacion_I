{
 "cells": [
  {
   "cell_type": "markdown",
   "id": "324abfa0",
   "metadata": {},
   "source": [
    "<div >\n",
    "<img src = \"figs/taller-meca-aprendizaje no supervisado_banner 1169 x 200 px -05.png\" />\n",
    "</div>"
   ]
  },
  {
   "cell_type": "markdown",
   "id": "9f061327",
   "metadata": {},
   "source": [
    "# Semana 5. Sesión Sincrónica.\n",
    "\n",
    "El  *cuaderno* tiene como objetivo hacer una introducción a los sistemas de recomendación.\n",
    "\n",
    "**NO** es necesario editar el archivo o hacer una entrega. Los ejemplos contienen celdas con código ejecutable (`en gris`), que podrá modificar libremente. Esta puede ser una buena forma de aprender nuevas funcionalidades del *cuaderno*, o experimentar variaciones en los códigos de ejemplo.\n",
    "\n"
   ]
  },
  {
   "cell_type": "markdown",
   "id": "3e812836",
   "metadata": {},
   "source": [
    "# Sistemas de Recomendación\n",
    "\n",
    "## ¿Qué son los sistemas de recomendaciones?\n",
    "\n",
    "\n",
    "Las preferencias de los individuos suelen seguir patrones que los sistemas de recomendación pueden aprovechar, por ejemplo,\n",
    "\n",
    "- Si te interesó:  <div style=\"max-width:200px\">\n",
    "<img src = \"figs/iron_man.jpg\" />\n",
    "</div>\n",
    "\n",
    "\n",
    "- También te puede interesar: <div style=\"max-width:200px\">\n",
    "<img src = \"figs/thor.jpg\" />\n",
    "</div> \n",
    "\n",
    "\n",
    "\n",
    "\n",
    "- Los sistemas de recomendación entonces encuentran patrones que son utilizados para predecir qué otros productos podrían gustarnos y generar sugerencias, de forma tal que  los usuarios encuentren contenido atractivo en un gran corpus. \n",
    "\n",
    "- Estos sistemas son muy exitosos, por ejemplo según un estudio del 2013 de [McKinsey](https://www.mckinsey.com/industries/retail/our-insights/how-retailers-can-keep-up-with-consumers), el 35% de los artículos comprados en Amazon surgen de estos sistemas de recomendación, y por lo tanto vale la pena estudiarlos cuidadosamente."
   ]
  },
  {
   "cell_type": "markdown",
   "id": "392e97f5",
   "metadata": {},
   "source": [
    "## Filtrado Colaborativo Basado en Usuarios.\n",
    "\n",
    "El filtrado colaborativo aprovecha el poder de la colaboración para generar recomendaciones. \n",
    "\n",
    " <div style=\"max-width:400px\">\n",
    "<img src = \"figs/Colab.png\" />\n",
    "</div> \n",
    "\n",
    "\n",
    "\n",
    "### Ejemplo\n",
    "\n",
    "Para entender un poco mejor cuál es el problema al que nos enfrentamos, supongamos que tenemos una matriz con 5 usuarios y 5 productos, en este caso restaurantes. \n",
    "\n",
    "El valor de la celda denota el rating que le dió cada usuario al restaurante. Este valor lo denotamos como $r_{ij}$ que será entonces el rating que le dio el usuario $i$ al restaurante $j$. \n",
    " "
   ]
  },
  {
   "cell_type": "code",
   "execution_count": 1,
   "id": "667638c7",
   "metadata": {
    "tags": []
   },
   "outputs": [
    {
     "data": {
      "text/html": [
       "<div>\n",
       "<style scoped>\n",
       "    .dataframe tbody tr th:only-of-type {\n",
       "        vertical-align: middle;\n",
       "    }\n",
       "\n",
       "    .dataframe tbody tr th {\n",
       "        vertical-align: top;\n",
       "    }\n",
       "\n",
       "    .dataframe thead th {\n",
       "        text-align: right;\n",
       "    }\n",
       "</style>\n",
       "<table border=\"1\" class=\"dataframe\">\n",
       "  <thead>\n",
       "    <tr style=\"text-align: right;\">\n",
       "      <th></th>\n",
       "      <th>restaurant_id</th>\n",
       "      <th>user_id</th>\n",
       "      <th>rating</th>\n",
       "    </tr>\n",
       "  </thead>\n",
       "  <tbody>\n",
       "    <tr>\n",
       "      <th>0</th>\n",
       "      <td>1</td>\n",
       "      <td>1</td>\n",
       "      <td>5.0</td>\n",
       "    </tr>\n",
       "    <tr>\n",
       "      <th>1</th>\n",
       "      <td>1</td>\n",
       "      <td>2</td>\n",
       "      <td>4.0</td>\n",
       "    </tr>\n",
       "    <tr>\n",
       "      <th>2</th>\n",
       "      <td>1</td>\n",
       "      <td>3</td>\n",
       "      <td>3.0</td>\n",
       "    </tr>\n",
       "    <tr>\n",
       "      <th>3</th>\n",
       "      <td>1</td>\n",
       "      <td>4</td>\n",
       "      <td>NaN</td>\n",
       "    </tr>\n",
       "    <tr>\n",
       "      <th>4</th>\n",
       "      <td>1</td>\n",
       "      <td>5</td>\n",
       "      <td>NaN</td>\n",
       "    </tr>\n",
       "  </tbody>\n",
       "</table>\n",
       "</div>"
      ],
      "text/plain": [
       "   restaurant_id  user_id  rating\n",
       "0              1        1     5.0\n",
       "1              1        2     4.0\n",
       "2              1        3     3.0\n",
       "3              1        4     NaN\n",
       "4              1        5     NaN"
      ]
     },
     "execution_count": 1,
     "metadata": {},
     "output_type": "execute_result"
    }
   ],
   "source": [
    "#cargamos librerias\n",
    "import pandas as pd\n",
    "import numpy as np\n",
    "\n",
    "# Cargamos y visualizamos  los datos\n",
    "ratings = pd.read_csv('data/Ratings.csv')\n",
    "ratings.head()"
   ]
  },
  {
   "cell_type": "code",
   "execution_count": 2,
   "id": "93d1a2d6",
   "metadata": {
    "tags": []
   },
   "outputs": [
    {
     "data": {
      "text/html": [
       "<div>\n",
       "<style scoped>\n",
       "    .dataframe tbody tr th:only-of-type {\n",
       "        vertical-align: middle;\n",
       "    }\n",
       "\n",
       "    .dataframe tbody tr th {\n",
       "        vertical-align: top;\n",
       "    }\n",
       "\n",
       "    .dataframe thead th {\n",
       "        text-align: right;\n",
       "    }\n",
       "</style>\n",
       "<table border=\"1\" class=\"dataframe\">\n",
       "  <thead>\n",
       "    <tr style=\"text-align: right;\">\n",
       "      <th>restaurant_id</th>\n",
       "      <th>1</th>\n",
       "      <th>2</th>\n",
       "      <th>3</th>\n",
       "      <th>4</th>\n",
       "      <th>5</th>\n",
       "    </tr>\n",
       "    <tr>\n",
       "      <th>user_id</th>\n",
       "      <th></th>\n",
       "      <th></th>\n",
       "      <th></th>\n",
       "      <th></th>\n",
       "      <th></th>\n",
       "    </tr>\n",
       "  </thead>\n",
       "  <tbody>\n",
       "    <tr>\n",
       "      <th>1</th>\n",
       "      <td>5.0</td>\n",
       "      <td>4.0</td>\n",
       "      <td>5.0</td>\n",
       "      <td>NaN</td>\n",
       "      <td>NaN</td>\n",
       "    </tr>\n",
       "    <tr>\n",
       "      <th>2</th>\n",
       "      <td>4.0</td>\n",
       "      <td>3.0</td>\n",
       "      <td>4.0</td>\n",
       "      <td>NaN</td>\n",
       "      <td>NaN</td>\n",
       "    </tr>\n",
       "    <tr>\n",
       "      <th>3</th>\n",
       "      <td>3.0</td>\n",
       "      <td>2.0</td>\n",
       "      <td>3.0</td>\n",
       "      <td>NaN</td>\n",
       "      <td>NaN</td>\n",
       "    </tr>\n",
       "    <tr>\n",
       "      <th>4</th>\n",
       "      <td>NaN</td>\n",
       "      <td>NaN</td>\n",
       "      <td>NaN</td>\n",
       "      <td>4.0</td>\n",
       "      <td>5.0</td>\n",
       "    </tr>\n",
       "    <tr>\n",
       "      <th>5</th>\n",
       "      <td>NaN</td>\n",
       "      <td>NaN</td>\n",
       "      <td>NaN</td>\n",
       "      <td>4.0</td>\n",
       "      <td>5.0</td>\n",
       "    </tr>\n",
       "  </tbody>\n",
       "</table>\n",
       "</div>"
      ],
      "text/plain": [
       "restaurant_id    1    2    3    4    5\n",
       "user_id                               \n",
       "1              5.0  4.0  5.0  NaN  NaN\n",
       "2              4.0  3.0  4.0  NaN  NaN\n",
       "3              3.0  2.0  3.0  NaN  NaN\n",
       "4              NaN  NaN  NaN  4.0  5.0\n",
       "5              NaN  NaN  NaN  4.0  5.0"
      ]
     },
     "execution_count": 2,
     "metadata": {},
     "output_type": "execute_result"
    }
   ],
   "source": [
    "# pivotamos la tabla para tener una matriz de usuarios y restaurantes\n",
    "r_matrix = ratings.pivot_table(values='rating', index='user_id', columns='restaurant_id')\n",
    "r_matrix.head()"
   ]
  },
  {
   "cell_type": "code",
   "execution_count": 3,
   "id": "129fcd36",
   "metadata": {
    "tags": []
   },
   "outputs": [
    {
     "data": {
      "text/html": [
       "<div>\n",
       "<style scoped>\n",
       "    .dataframe tbody tr th:only-of-type {\n",
       "        vertical-align: middle;\n",
       "    }\n",
       "\n",
       "    .dataframe tbody tr th {\n",
       "        vertical-align: top;\n",
       "    }\n",
       "\n",
       "    .dataframe thead th {\n",
       "        text-align: right;\n",
       "    }\n",
       "</style>\n",
       "<table border=\"1\" class=\"dataframe\">\n",
       "  <thead>\n",
       "    <tr style=\"text-align: right;\">\n",
       "      <th>restaurant_id</th>\n",
       "      <th>1</th>\n",
       "      <th>2</th>\n",
       "      <th>3</th>\n",
       "      <th>4</th>\n",
       "      <th>5</th>\n",
       "    </tr>\n",
       "    <tr>\n",
       "      <th>user_id</th>\n",
       "      <th></th>\n",
       "      <th></th>\n",
       "      <th></th>\n",
       "      <th></th>\n",
       "      <th></th>\n",
       "    </tr>\n",
       "  </thead>\n",
       "  <tbody>\n",
       "    <tr>\n",
       "      <th>1</th>\n",
       "      <td>5.0</td>\n",
       "      <td>4.0</td>\n",
       "      <td>5.0</td>\n",
       "      <td>0.0</td>\n",
       "      <td>0.0</td>\n",
       "    </tr>\n",
       "    <tr>\n",
       "      <th>2</th>\n",
       "      <td>4.0</td>\n",
       "      <td>3.0</td>\n",
       "      <td>4.0</td>\n",
       "      <td>0.0</td>\n",
       "      <td>0.0</td>\n",
       "    </tr>\n",
       "    <tr>\n",
       "      <th>3</th>\n",
       "      <td>3.0</td>\n",
       "      <td>2.0</td>\n",
       "      <td>3.0</td>\n",
       "      <td>0.0</td>\n",
       "      <td>0.0</td>\n",
       "    </tr>\n",
       "    <tr>\n",
       "      <th>4</th>\n",
       "      <td>0.0</td>\n",
       "      <td>0.0</td>\n",
       "      <td>0.0</td>\n",
       "      <td>4.0</td>\n",
       "      <td>5.0</td>\n",
       "    </tr>\n",
       "    <tr>\n",
       "      <th>5</th>\n",
       "      <td>0.0</td>\n",
       "      <td>0.0</td>\n",
       "      <td>0.0</td>\n",
       "      <td>4.0</td>\n",
       "      <td>5.0</td>\n",
       "    </tr>\n",
       "  </tbody>\n",
       "</table>\n",
       "</div>"
      ],
      "text/plain": [
       "restaurant_id    1    2    3    4    5\n",
       "user_id                               \n",
       "1              5.0  4.0  5.0  0.0  0.0\n",
       "2              4.0  3.0  4.0  0.0  0.0\n",
       "3              3.0  2.0  3.0  0.0  0.0\n",
       "4              0.0  0.0  0.0  4.0  5.0\n",
       "5              0.0  0.0  0.0  4.0  5.0"
      ]
     },
     "execution_count": 3,
     "metadata": {},
     "output_type": "execute_result"
    }
   ],
   "source": [
    "# creamos una matriz de usuarios y restaurantes donde remplazamos los valores nulos por 0\n",
    "r_matrix_dummy = r_matrix.copy().fillna(0)\n",
    "r_matrix_dummy"
   ]
  },
  {
   "cell_type": "markdown",
   "id": "50bda715",
   "metadata": {},
   "source": [
    "### Filtrado colaborativo sencillo (simple): medias, y medias ponderadas.\n",
    "\n",
    "\n",
    "#### Medias \n",
    "\n",
    "- Esta estrategia consiste en calcular el rating promedio que le asignó cada usuario "
   ]
  },
  {
   "cell_type": "code",
   "execution_count": 4,
   "id": "7cf05af8",
   "metadata": {
    "tags": []
   },
   "outputs": [
    {
     "data": {
      "text/html": [
       "<div>\n",
       "<style scoped>\n",
       "    .dataframe tbody tr th:only-of-type {\n",
       "        vertical-align: middle;\n",
       "    }\n",
       "\n",
       "    .dataframe tbody tr th {\n",
       "        vertical-align: top;\n",
       "    }\n",
       "\n",
       "    .dataframe thead th {\n",
       "        text-align: right;\n",
       "    }\n",
       "</style>\n",
       "<table border=\"1\" class=\"dataframe\">\n",
       "  <thead>\n",
       "    <tr style=\"text-align: right;\">\n",
       "      <th></th>\n",
       "      <th>rating</th>\n",
       "    </tr>\n",
       "    <tr>\n",
       "      <th>restaurant_id</th>\n",
       "      <th></th>\n",
       "    </tr>\n",
       "  </thead>\n",
       "  <tbody>\n",
       "    <tr>\n",
       "      <th>1</th>\n",
       "      <td>4.0</td>\n",
       "    </tr>\n",
       "    <tr>\n",
       "      <th>2</th>\n",
       "      <td>3.0</td>\n",
       "    </tr>\n",
       "    <tr>\n",
       "      <th>3</th>\n",
       "      <td>4.0</td>\n",
       "    </tr>\n",
       "    <tr>\n",
       "      <th>4</th>\n",
       "      <td>4.0</td>\n",
       "    </tr>\n",
       "    <tr>\n",
       "      <th>5</th>\n",
       "      <td>5.0</td>\n",
       "    </tr>\n",
       "  </tbody>\n",
       "</table>\n",
       "</div>"
      ],
      "text/plain": [
       "               rating\n",
       "restaurant_id        \n",
       "1                 4.0\n",
       "2                 3.0\n",
       "3                 4.0\n",
       "4                 4.0\n",
       "5                 5.0"
      ]
     },
     "execution_count": 4,
     "metadata": {},
     "output_type": "execute_result"
    }
   ],
   "source": [
    " puntuac_promedio = ratings.groupby('restaurant_id').mean()\n",
    " pd.DataFrame(puntuac_promedio.iloc[:,1])"
   ]
  },
  {
   "cell_type": "markdown",
   "id": "25d46ede",
   "metadata": {},
   "source": [
    "#### Medias ponderadas\n",
    "\n",
    "- Podemos hacer algo más sofisticado usando recomendaciones de usuarios similares?\n",
    "\n",
    "\n",
    "- Podemos hacer una media ponderada\n",
    "\n",
    "\n",
    "$$\n",
    "r_{ur}=\\frac{\\sum_{u',u'\\neq u}sim(u,u').r_{u'r}}{\\sum_{u',u'\\neq u}sim(u,u')}\n",
    "$$\n",
    "\n",
    "\n",
    "\n",
    "- Es decir la predicción del rating del usuario $u$ para el restaurante $r$, $r_{ur}$, es la suma ponderada de los ratings de los otros usuarios ($u'$) a este restaurante, \n",
    "\n",
    "\n",
    "- Ponderado por cuán similares son los usuarios $u'$ a $u$. \n",
    "\n",
    "\n",
    "- Como medimos similitud?\n",
    "\n",
    "    - Existen múltiples medidas de distancia que se utilizan para medir la similitud. \n",
    "\n",
    "    - La distancia de coseno, que suele ser la más utilizada en los sistemas de recomendación.\n",
    "\n",
    "    - Matemáticamente\n",
    "\n",
    "$$\n",
    "coseno(x,y)=\\frac{x.y'}{|x||y|}\n",
    "$$\n",
    "\n",
    "\n",
    "Es decir, es el cociente del producto punto, dividido por las normas de los vectores.\n",
    "\n",
    "<center>\n",
    "<img src = \"figs/dist_cos.png\" alt = \"coseno\" style = \"width: 300px;\"/>\n",
    "</center>\n",
    "\n",
    "\n",
    "- Si el ángulo es 0  de grados, entonces los vectores se solapan, y el coseno es igual a 1 \n",
    "- Si el ángulo es 90 de grados, los vectores forman un angulo recto, y el coseno es igual a 0.\n",
    "- Si el ángulo es 180 de grados, los vectores estan en sentido opuesto, y  el coseno es igual a -1."
   ]
  },
  {
   "cell_type": "code",
   "execution_count": 5,
   "id": "e4dc3b73",
   "metadata": {
    "tags": []
   },
   "outputs": [
    {
     "data": {
      "text/plain": [
       "1.0"
      ]
     },
     "execution_count": 5,
     "metadata": {},
     "output_type": "execute_result"
    }
   ],
   "source": [
    "import math\n",
    "\n",
    "math.cos(math.radians(0))"
   ]
  },
  {
   "cell_type": "markdown",
   "id": "601888f1",
   "metadata": {},
   "source": [
    "##### Creamos una función recomendadora usando esto"
   ]
  },
  {
   "cell_type": "code",
   "execution_count": 6,
   "id": "0abe4d07",
   "metadata": {
    "tags": []
   },
   "outputs": [
    {
     "data": {
      "text/html": [
       "<div>\n",
       "<style scoped>\n",
       "    .dataframe tbody tr th:only-of-type {\n",
       "        vertical-align: middle;\n",
       "    }\n",
       "\n",
       "    .dataframe tbody tr th {\n",
       "        vertical-align: top;\n",
       "    }\n",
       "\n",
       "    .dataframe thead th {\n",
       "        text-align: right;\n",
       "    }\n",
       "</style>\n",
       "<table border=\"1\" class=\"dataframe\">\n",
       "  <thead>\n",
       "    <tr style=\"text-align: right;\">\n",
       "      <th>user_id</th>\n",
       "      <th>1</th>\n",
       "      <th>2</th>\n",
       "      <th>3</th>\n",
       "      <th>4</th>\n",
       "      <th>5</th>\n",
       "    </tr>\n",
       "    <tr>\n",
       "      <th>user_id</th>\n",
       "      <th></th>\n",
       "      <th></th>\n",
       "      <th></th>\n",
       "      <th></th>\n",
       "      <th></th>\n",
       "    </tr>\n",
       "  </thead>\n",
       "  <tbody>\n",
       "    <tr>\n",
       "      <th>1</th>\n",
       "      <td>1.000000</td>\n",
       "      <td>0.999630</td>\n",
       "      <td>0.997241</td>\n",
       "      <td>0.0</td>\n",
       "      <td>0.0</td>\n",
       "    </tr>\n",
       "    <tr>\n",
       "      <th>2</th>\n",
       "      <td>0.999630</td>\n",
       "      <td>1.000000</td>\n",
       "      <td>0.998891</td>\n",
       "      <td>0.0</td>\n",
       "      <td>0.0</td>\n",
       "    </tr>\n",
       "    <tr>\n",
       "      <th>3</th>\n",
       "      <td>0.997241</td>\n",
       "      <td>0.998891</td>\n",
       "      <td>1.000000</td>\n",
       "      <td>0.0</td>\n",
       "      <td>0.0</td>\n",
       "    </tr>\n",
       "    <tr>\n",
       "      <th>4</th>\n",
       "      <td>0.000000</td>\n",
       "      <td>0.000000</td>\n",
       "      <td>0.000000</td>\n",
       "      <td>1.0</td>\n",
       "      <td>1.0</td>\n",
       "    </tr>\n",
       "    <tr>\n",
       "      <th>5</th>\n",
       "      <td>0.000000</td>\n",
       "      <td>0.000000</td>\n",
       "      <td>0.000000</td>\n",
       "      <td>1.0</td>\n",
       "      <td>1.0</td>\n",
       "    </tr>\n",
       "  </tbody>\n",
       "</table>\n",
       "</div>"
      ],
      "text/plain": [
       "user_id         1         2         3    4    5\n",
       "user_id                                        \n",
       "1        1.000000  0.999630  0.997241  0.0  0.0\n",
       "2        0.999630  1.000000  0.998891  0.0  0.0\n",
       "3        0.997241  0.998891  1.000000  0.0  0.0\n",
       "4        0.000000  0.000000  0.000000  1.0  1.0\n",
       "5        0.000000  0.000000  0.000000  1.0  1.0"
      ]
     },
     "execution_count": 6,
     "metadata": {},
     "output_type": "execute_result"
    }
   ],
   "source": [
    "# Importamos cosine_similarity \n",
    "from sklearn.metrics.pairwise import cosine_similarity\n",
    "\n",
    "#Calculamos la similitud de coseno \n",
    "cosine_sim = cosine_similarity(r_matrix_dummy, r_matrix_dummy)\n",
    "\n",
    "# Transformamos la matriz de similitud en un DataFrame\n",
    "cosine_sim = pd.DataFrame(cosine_sim, index=r_matrix.index, columns=r_matrix.index)\n",
    "\n",
    "cosine_sim\n"
   ]
  },
  {
   "cell_type": "code",
   "execution_count": 7,
   "id": "ca0c7c69",
   "metadata": {
    "tags": []
   },
   "outputs": [
    {
     "data": {
      "text/plain": [
       "\u001b[0;31mSignature:\u001b[0m \u001b[0mcosine_similarity\u001b[0m\u001b[0;34m(\u001b[0m\u001b[0mX\u001b[0m\u001b[0;34m,\u001b[0m \u001b[0mY\u001b[0m\u001b[0;34m=\u001b[0m\u001b[0;32mNone\u001b[0m\u001b[0;34m,\u001b[0m \u001b[0mdense_output\u001b[0m\u001b[0;34m=\u001b[0m\u001b[0;32mTrue\u001b[0m\u001b[0;34m)\u001b[0m\u001b[0;34m\u001b[0m\u001b[0;34m\u001b[0m\u001b[0m\n",
       "\u001b[0;31mDocstring:\u001b[0m\n",
       "Compute cosine similarity between samples in X and Y.\n",
       "\n",
       "Cosine similarity, or the cosine kernel, computes similarity as the\n",
       "normalized dot product of X and Y:\n",
       "\n",
       "    K(X, Y) = <X, Y> / (||X||*||Y||)\n",
       "\n",
       "On L2-normalized data, this function is equivalent to linear_kernel.\n",
       "\n",
       "Read more in the :ref:`User Guide <cosine_similarity>`.\n",
       "\n",
       "Parameters\n",
       "----------\n",
       "X : {array-like, sparse matrix} of shape (n_samples_X, n_features)\n",
       "    Input data.\n",
       "\n",
       "Y : {array-like, sparse matrix} of shape (n_samples_Y, n_features),             default=None\n",
       "    Input data. If ``None``, the output will be the pairwise\n",
       "    similarities between all samples in ``X``.\n",
       "\n",
       "dense_output : bool, default=True\n",
       "    Whether to return dense output even when the input is sparse. If\n",
       "    ``False``, the output is sparse if both input arrays are sparse.\n",
       "\n",
       "    .. versionadded:: 0.17\n",
       "       parameter ``dense_output`` for dense output.\n",
       "\n",
       "Returns\n",
       "-------\n",
       "similarities : ndarray of shape (n_samples_X, n_samples_Y)\n",
       "    Returns the cosine similarity between samples in X and Y.\n",
       "\n",
       "Examples\n",
       "--------\n",
       ">>> from sklearn.metrics.pairwise import cosine_similarity\n",
       ">>> X = [[0, 0, 0], [1, 1, 1]]\n",
       ">>> Y = [[1, 0, 0], [1, 1, 0]]\n",
       ">>> cosine_similarity(X, Y)\n",
       "array([[0.     , 0.     ],\n",
       "       [0.57..., 0.81...]])\n",
       "\u001b[0;31mFile:\u001b[0m      /opt/anaconda3/lib/python3.11/site-packages/sklearn/metrics/pairwise.py\n",
       "\u001b[0;31mType:\u001b[0m      function"
      ]
     },
     "metadata": {},
     "output_type": "display_data"
    }
   ],
   "source": [
    "?cosine_similarity"
   ]
  },
  {
   "cell_type": "code",
   "execution_count": 8,
   "id": "343470a8",
   "metadata": {
    "tags": []
   },
   "outputs": [],
   "source": [
    "# Definimos una función para calcular el promedio ponderado de los ratings\n",
    "def cf_user_wmean(user_id, restaurant_id):\n",
    "    \n",
    "    # Primero verificamos si el restaurante está en la matriz\n",
    "    if restaurant_id in r_matrix:\n",
    "    \n",
    "        #Buscamos las medidas de similitud con los otros usuarios\n",
    "        sim_scores = cosine_sim[user_id]\n",
    "        \n",
    "        # Obtenemos los ratings no faltantes de la matriz bajo evaluación\n",
    "        m_ratings = r_matrix[restaurant_id]\n",
    "        \n",
    "         # Obtenemos los índices de los restaurantes sin rating \n",
    "        idx = m_ratings[m_ratings.isnull()].index\n",
    "        \n",
    "        # Nos quedamos con similitudes y ratings completos\n",
    "        sim_scores = sim_scores.drop(idx)\n",
    "        m_ratings = m_ratings.dropna()\n",
    "        \n",
    "        # Calculamos la media ponderada\n",
    "        wmean_rating = np.dot(sim_scores, m_ratings)/ sim_scores.sum()\n",
    "    \n",
    "    else:\n",
    "        # Si no tenemos ninguna información retornamos 3\n",
    "        wmean_rating = 3.0\n",
    "    \n",
    "    return wmean_rating"
   ]
  },
  {
   "cell_type": "code",
   "execution_count": 9,
   "id": "737bec3a",
   "metadata": {
    "tags": []
   },
   "outputs": [
    {
     "data": {
      "text/plain": [
       "4.000920501832994"
      ]
     },
     "execution_count": 9,
     "metadata": {},
     "output_type": "execute_result"
    }
   ],
   "source": [
    "cf_user_wmean(1,1)"
   ]
  },
  {
   "cell_type": "code",
   "execution_count": 10,
   "id": "bc73cc81",
   "metadata": {
    "tags": []
   },
   "outputs": [
    {
     "data": {
      "text/plain": [
       "user_id\n",
       "1    1.000000\n",
       "2    0.999630\n",
       "3    0.997241\n",
       "4    0.000000\n",
       "5    0.000000\n",
       "Name: 1, dtype: float64"
      ]
     },
     "execution_count": 10,
     "metadata": {},
     "output_type": "execute_result"
    }
   ],
   "source": [
    "sim_scores = cosine_sim[1]\n",
    "sim_scores"
   ]
  },
  {
   "cell_type": "code",
   "execution_count": 11,
   "id": "3cc50ae5",
   "metadata": {
    "tags": []
   },
   "outputs": [
    {
     "data": {
      "text/plain": [
       "user_id\n",
       "1    5.0\n",
       "2    4.0\n",
       "3    3.0\n",
       "4    NaN\n",
       "5    NaN\n",
       "Name: 1, dtype: float64"
      ]
     },
     "execution_count": 11,
     "metadata": {},
     "output_type": "execute_result"
    }
   ],
   "source": [
    "m_ratings =r_matrix[1]\n",
    "m_ratings"
   ]
  },
  {
   "cell_type": "code",
   "execution_count": 12,
   "id": "83dd6c58",
   "metadata": {
    "tags": []
   },
   "outputs": [
    {
     "data": {
      "text/plain": [
       "Index([4, 5], dtype='int64', name='user_id')"
      ]
     },
     "execution_count": 12,
     "metadata": {},
     "output_type": "execute_result"
    }
   ],
   "source": [
    "idx = m_ratings[m_ratings.isnull()].index\n",
    "idx"
   ]
  },
  {
   "cell_type": "markdown",
   "id": "c821a1bb",
   "metadata": {},
   "source": [
    "Falta entonces \n",
    "\n",
    "$$\n",
    "r_{um}=\\frac{\\sum_{u',u'\\neq u}sim(u,u').r_{u'm}}{\\sum_{u',u'\\neq u}sim(u,u')}\n",
    "$$\n"
   ]
  },
  {
   "cell_type": "code",
   "execution_count": 13,
   "id": "ec9ba35d",
   "metadata": {
    "tags": []
   },
   "outputs": [
    {
     "data": {
      "text/plain": [
       "4.000920501832994"
      ]
     },
     "execution_count": 13,
     "metadata": {},
     "output_type": "execute_result"
    }
   ],
   "source": [
    "sim_scores1 = sim_scores.drop(idx)\n",
    "\n",
    "m_ratings = m_ratings.dropna()\n",
    "        \n",
    "# Calculamos la media ponderada\n",
    "wmean_rating = np.dot(sim_scores1, m_ratings)/ sim_scores1.sum()\n",
    "wmean_rating"
   ]
  },
  {
   "cell_type": "markdown",
   "id": "34699379",
   "metadata": {},
   "source": [
    "#### Filtrado colaborativo basado en embeddings\n"
   ]
  },
  {
   "cell_type": "markdown",
   "id": "3a6eda75",
   "metadata": {},
   "source": [
    "\n",
    "Estudiemos un ejemplo en el que queremos generar recomendaciones de películas a partir de *embeddings*. Supondremos que nuestra plataforma de streaming: **\"SlowFlow\"** tiene 4 usuarios y 5 películas: [Batman: El caballero de la noche asciende](https://es.wikipedia.org/wiki/The_Dark_Knight_Rises), [Harry Potter y la Piedra Filosofal](https://es.wikipedia.org/wiki/Harry_Potter_y_la_piedra_filosofal), [Shrek](https://es.wikipedia.org/wiki/Shrek), [Las trillizas de Belleville](https://es.wikipedia.org/wiki/Les_Triplettes_de_Belleville) y [Memento](https://es.wikipedia.org/wiki/Memento). \n",
    "\n",
    "La siguiente matriz que llamaremos $A$, donde $A\\in\\mathbb{R}^{ m\\times n}$, es decir, las filas son los $m$ usuarios y las columnas las $n$ películas, muestra con un $\\checkmark$ las películas que cada usuario vió:\n",
    "\n",
    "\n",
    "<center>\n",
    "<img src = \"figs/colab0.png\" alt = \"embedding1D\" style = \"width: 500px;\"/>\n",
    "</center>\n",
    "\n",
    "\n",
    "#### Embedding en una sola dimensión \n",
    "\n",
    "Comencemos representando las películas y los usuarios a un *embedding space*  de una sola dimensión. Por ejemplo, a lo largo del segmento $[-1,1]$ de forma tal que películas e individuos similares estén más cerca.\n",
    "\n",
    "\n",
    "\n",
    "<center>\n",
    "<img src = \"figs/colab1.png\" alt = \"embedding1D\" style = \"width: 500px;\"/>\n",
    "</center>\n",
    "\n",
    "<center>\n",
    "<img src = \"figs/colab2b.png\" alt = \"embedding1D\" style = \"width: 500px;\"/>\n",
    "</center>\n",
    "\n",
    "#### Embeddings en dos dimensiones\n",
    "\n",
    "<center>\n",
    "<img src = \"figs/colab4.png\" alt = \"embedding2D\" style = \"width: 500px;\"/>\n",
    "</center>\n",
    "\n",
    "<center>\n",
    "<img src = \"figs/colab5.png\" alt = \"embedding2D\" style = \"width: 500px;\"/>\n",
    "</center>\n",
    "\n",
    "\n",
    "Finalmente\n",
    "\n",
    "<center>\n",
    "<img src = \"figs/colab3b.png\" alt = \"embedding2D\" style = \"width: 500px;\"/>\n",
    "</center>\n"
   ]
  },
  {
   "cell_type": "markdown",
   "id": "c6fa528b",
   "metadata": {},
   "source": [
    "#### Como obtenemos los embeddings?\n",
    "\n",
    "Una forma de obtener embeddings es mediante la Descomposición en Valores Singulares (SVD):\n",
    "\n",
    "$$\n",
    "A = U\\Sigma V'\n",
    "$$\n",
    "\n",
    "En el contexto tradicional de SVD, \n",
    "    \n",
    "    - $U$ es una matriz ortogonal cuyas columnas son los vectores singulares de la matriz original $A$, que están relacionados con los **vectores propios (característicos)** de $AA'$. Estos vectores también tienen una estrecha relación con las **componentes principales** en Análisis de Componentes Principales (PCA), ya que representan las direcciones principales de variabilidad en los datos para las filas de $A$. \n",
    "    - Por otro lado, $V$ es otra matriz ortogonal cuyas columnas son los vectores singulares de $A$, pero asociados con las columnas de la matriz original, representando las direcciones principales de variabilidad en las columnas de $A$. En otras palabras, $U$ y $V$ son matrices que describen cómo las filas y las columnas de $A$ se pueden proyectar en espacios de características latentes.\n",
    "\n",
    "En el **contexto de embeddings**, $U$ y $V$ tienen una interpretación más específica.\n",
    "    \n",
    "    - $U$ representa la matriz de **embeddings de los usuarios**, es decir, cada fila de $U$ es una representación latente de un usuario en un espacio de características, capturando sus preferencias a lo largo de diferentes dimensiones latentes. \n",
    "    - Similarmente, $V$ es la matriz de **embeddings de los ítems**, donde cada columna de $V$ describe un ítem en ese mismo espacio latente, permitiendo modelar cómo los ítems están relacionados con esas características latentes identificadas.\n",
    "\n",
    "Este **espacio de características latentes** es comparable a lo que ocurre en el contexto de reconocimiento facial con las **Eigenfaces**. En Eigenfaces, las imágenes de rostros se proyectan en un espacio de características latentes donde cada dimensión captura un patrón característico de los rostros, como la forma general o las características distintivas. De manera similar, en el caso de embeddings obtenidos a partir de SVD, tanto los usuarios como los ítems se proyectan en un espacio de características latentes que captura los patrones más representativos de sus interacciones, como preferencias o similitudes. En ambos casos, el objetivo es reducir la dimensionalidad mientras se preserva la información más relevante.\n",
    "\n",
    "La matriz $\\Sigma$ sigue conteniendo los valores singulares, que actúan como ponderadores, indicando qué tan importantes son estas características latentes para describir las interacciones entre usuarios e ítems.\n",
    "\n",
    "Para reducir la dimensionalidad y obtener una representación de rango inferior, seleccionamos solamente las primeras $k$ características de estas matrices, que consideramos capturan de manera más efectiva las preferencias y los gustos de los usuarios."
   ]
  },
  {
   "cell_type": "markdown",
   "id": "27ad3078",
   "metadata": {},
   "source": [
    "####  Interpretación de Embeddings\n",
    "\n",
    "##### Ejemplo 1:"
   ]
  },
  {
   "cell_type": "code",
   "execution_count": 14,
   "id": "fb29a453",
   "metadata": {
    "tags": []
   },
   "outputs": [
    {
     "data": {
      "text/html": [
       "<div>\n",
       "<style scoped>\n",
       "    .dataframe tbody tr th:only-of-type {\n",
       "        vertical-align: middle;\n",
       "    }\n",
       "\n",
       "    .dataframe tbody tr th {\n",
       "        vertical-align: top;\n",
       "    }\n",
       "\n",
       "    .dataframe thead th {\n",
       "        text-align: right;\n",
       "    }\n",
       "</style>\n",
       "<table border=\"1\" class=\"dataframe\">\n",
       "  <thead>\n",
       "    <tr style=\"text-align: right;\">\n",
       "      <th></th>\n",
       "      <th>Matrix</th>\n",
       "      <th>Alien</th>\n",
       "      <th>Star Wars</th>\n",
       "      <th>Casablanca</th>\n",
       "      <th>Titanic</th>\n",
       "    </tr>\n",
       "    <tr>\n",
       "      <th>Usuarios</th>\n",
       "      <th></th>\n",
       "      <th></th>\n",
       "      <th></th>\n",
       "      <th></th>\n",
       "      <th></th>\n",
       "    </tr>\n",
       "  </thead>\n",
       "  <tbody>\n",
       "    <tr>\n",
       "      <th>Juan</th>\n",
       "      <td>1</td>\n",
       "      <td>1</td>\n",
       "      <td>1</td>\n",
       "      <td>0</td>\n",
       "      <td>0</td>\n",
       "    </tr>\n",
       "    <tr>\n",
       "      <th>Jose</th>\n",
       "      <td>3</td>\n",
       "      <td>3</td>\n",
       "      <td>3</td>\n",
       "      <td>0</td>\n",
       "      <td>0</td>\n",
       "    </tr>\n",
       "    <tr>\n",
       "      <th>Lucas</th>\n",
       "      <td>4</td>\n",
       "      <td>4</td>\n",
       "      <td>4</td>\n",
       "      <td>0</td>\n",
       "      <td>0</td>\n",
       "    </tr>\n",
       "    <tr>\n",
       "      <th>Ana</th>\n",
       "      <td>5</td>\n",
       "      <td>5</td>\n",
       "      <td>5</td>\n",
       "      <td>0</td>\n",
       "      <td>0</td>\n",
       "    </tr>\n",
       "    <tr>\n",
       "      <th>Martina</th>\n",
       "      <td>0</td>\n",
       "      <td>0</td>\n",
       "      <td>0</td>\n",
       "      <td>4</td>\n",
       "      <td>4</td>\n",
       "    </tr>\n",
       "    <tr>\n",
       "      <th>Ines</th>\n",
       "      <td>0</td>\n",
       "      <td>0</td>\n",
       "      <td>0</td>\n",
       "      <td>5</td>\n",
       "      <td>5</td>\n",
       "    </tr>\n",
       "    <tr>\n",
       "      <th>Daniel</th>\n",
       "      <td>0</td>\n",
       "      <td>0</td>\n",
       "      <td>0</td>\n",
       "      <td>2</td>\n",
       "      <td>2</td>\n",
       "    </tr>\n",
       "  </tbody>\n",
       "</table>\n",
       "</div>"
      ],
      "text/plain": [
       "          Matrix   Alien  Star Wars  Casablanca  Titanic\n",
       "Usuarios                                                \n",
       "Juan            1      1          1           0        0\n",
       "Jose            3      3          3           0        0\n",
       "Lucas           4      4          4           0        0\n",
       "Ana             5      5          5           0        0\n",
       "Martina         0      0          0           4        4\n",
       "Ines            0      0          0           5        5\n",
       "Daniel          0      0          0           2        2"
      ]
     },
     "execution_count": 14,
     "metadata": {},
     "output_type": "execute_result"
    }
   ],
   "source": [
    "import pandas as pd\n",
    "import numpy as np\n",
    "\n",
    "# Cargamos y visualizamos  los datos\n",
    "pelis = pd.read_csv('data/pelis.csv')\n",
    "pelis = pelis.set_index(\"Usuarios\")\n",
    "pelis"
   ]
  },
  {
   "cell_type": "code",
   "execution_count": 15,
   "id": "bac667d0",
   "metadata": {
    "tags": []
   },
   "outputs": [
    {
     "data": {
      "text/plain": [
       "2"
      ]
     },
     "execution_count": 15,
     "metadata": {},
     "output_type": "execute_result"
    }
   ],
   "source": [
    "np.linalg.matrix_rank(pelis.to_numpy())"
   ]
  },
  {
   "cell_type": "code",
   "execution_count": 16,
   "id": "f398660a",
   "metadata": {
    "tags": []
   },
   "outputs": [],
   "source": [
    "U, S, Vt = np.linalg.svd(pelis, full_matrices=False)"
   ]
  },
  {
   "cell_type": "code",
   "execution_count": 17,
   "id": "33ee196a",
   "metadata": {
    "tags": []
   },
   "outputs": [
    {
     "name": "stdout",
     "output_type": "stream",
     "text": [
      "[[-0.14002801  0.        ]\n",
      " [-0.42008403  0.        ]\n",
      " [-0.56011203  0.        ]\n",
      " [-0.70014004  0.        ]\n",
      " [ 0.         -0.59628479]\n",
      " [ 0.         -0.74535599]\n",
      " [ 0.         -0.2981424 ]]\n"
     ]
    }
   ],
   "source": [
    "print(U[:,0:2])"
   ]
  },
  {
   "cell_type": "code",
   "execution_count": 18,
   "id": "4dcd7f53",
   "metadata": {
    "tags": []
   },
   "outputs": [
    {
     "name": "stdout",
     "output_type": "stream",
     "text": [
      "[[-0.57735027 -0.57735027 -0.57735027 -0.         -0.        ]\n",
      " [-0.         -0.         -0.         -0.70710678 -0.70710678]]\n"
     ]
    }
   ],
   "source": [
    "print(Vt[0:2,:])"
   ]
  },
  {
   "cell_type": "code",
   "execution_count": 19,
   "id": "8869d715",
   "metadata": {
    "tags": []
   },
   "outputs": [
    {
     "name": "stdout",
     "output_type": "stream",
     "text": [
      "[[12.36931688  0.        ]\n",
      " [ 0.          9.48683298]]\n"
     ]
    }
   ],
   "source": [
    "n=2\n",
    "k=2\n",
    "S2= np.resize(S,[n,1])*np.eye(n,k) #ponemos los valores singulares en una matriz diagonal\n",
    "\n",
    "print(S2)"
   ]
  },
  {
   "cell_type": "code",
   "execution_count": 20,
   "id": "4a0ff887",
   "metadata": {
    "tags": []
   },
   "outputs": [
    {
     "data": {
      "text/html": [
       "<div>\n",
       "<style scoped>\n",
       "    .dataframe tbody tr th:only-of-type {\n",
       "        vertical-align: middle;\n",
       "    }\n",
       "\n",
       "    .dataframe tbody tr th {\n",
       "        vertical-align: top;\n",
       "    }\n",
       "\n",
       "    .dataframe thead th {\n",
       "        text-align: right;\n",
       "    }\n",
       "</style>\n",
       "<table border=\"1\" class=\"dataframe\">\n",
       "  <thead>\n",
       "    <tr style=\"text-align: right;\">\n",
       "      <th></th>\n",
       "      <th>0</th>\n",
       "      <th>1</th>\n",
       "      <th>2</th>\n",
       "      <th>3</th>\n",
       "      <th>4</th>\n",
       "    </tr>\n",
       "  </thead>\n",
       "  <tbody>\n",
       "    <tr>\n",
       "      <th>0</th>\n",
       "      <td>1.0</td>\n",
       "      <td>1.0</td>\n",
       "      <td>1.0</td>\n",
       "      <td>0.0</td>\n",
       "      <td>0.0</td>\n",
       "    </tr>\n",
       "    <tr>\n",
       "      <th>1</th>\n",
       "      <td>3.0</td>\n",
       "      <td>3.0</td>\n",
       "      <td>3.0</td>\n",
       "      <td>0.0</td>\n",
       "      <td>0.0</td>\n",
       "    </tr>\n",
       "    <tr>\n",
       "      <th>2</th>\n",
       "      <td>4.0</td>\n",
       "      <td>4.0</td>\n",
       "      <td>4.0</td>\n",
       "      <td>0.0</td>\n",
       "      <td>0.0</td>\n",
       "    </tr>\n",
       "    <tr>\n",
       "      <th>3</th>\n",
       "      <td>5.0</td>\n",
       "      <td>5.0</td>\n",
       "      <td>5.0</td>\n",
       "      <td>0.0</td>\n",
       "      <td>0.0</td>\n",
       "    </tr>\n",
       "    <tr>\n",
       "      <th>4</th>\n",
       "      <td>0.0</td>\n",
       "      <td>0.0</td>\n",
       "      <td>0.0</td>\n",
       "      <td>4.0</td>\n",
       "      <td>4.0</td>\n",
       "    </tr>\n",
       "    <tr>\n",
       "      <th>5</th>\n",
       "      <td>0.0</td>\n",
       "      <td>0.0</td>\n",
       "      <td>0.0</td>\n",
       "      <td>5.0</td>\n",
       "      <td>5.0</td>\n",
       "    </tr>\n",
       "    <tr>\n",
       "      <th>6</th>\n",
       "      <td>0.0</td>\n",
       "      <td>0.0</td>\n",
       "      <td>0.0</td>\n",
       "      <td>2.0</td>\n",
       "      <td>2.0</td>\n",
       "    </tr>\n",
       "  </tbody>\n",
       "</table>\n",
       "</div>"
      ],
      "text/plain": [
       "     0    1    2    3    4\n",
       "0  1.0  1.0  1.0  0.0  0.0\n",
       "1  3.0  3.0  3.0  0.0  0.0\n",
       "2  4.0  4.0  4.0  0.0  0.0\n",
       "3  5.0  5.0  5.0  0.0  0.0\n",
       "4  0.0  0.0  0.0  4.0  4.0\n",
       "5  0.0  0.0  0.0  5.0  5.0\n",
       "6  0.0  0.0  0.0  2.0  2.0"
      ]
     },
     "execution_count": 20,
     "metadata": {},
     "output_type": "execute_result"
    }
   ],
   "source": [
    "#Reconstrucción\n",
    "l=2\n",
    "pd.DataFrame(np.dot(U[:,0:l],np.dot(S2[0:l,0:l],Vt[0:l,:]))).round()"
   ]
  },
  {
   "cell_type": "markdown",
   "id": "6e073a44",
   "metadata": {},
   "source": [
    "##### Ejemplo 2:"
   ]
  },
  {
   "cell_type": "code",
   "execution_count": 21,
   "id": "537da713",
   "metadata": {
    "tags": []
   },
   "outputs": [
    {
     "data": {
      "text/html": [
       "<div>\n",
       "<style scoped>\n",
       "    .dataframe tbody tr th:only-of-type {\n",
       "        vertical-align: middle;\n",
       "    }\n",
       "\n",
       "    .dataframe tbody tr th {\n",
       "        vertical-align: top;\n",
       "    }\n",
       "\n",
       "    .dataframe thead th {\n",
       "        text-align: right;\n",
       "    }\n",
       "</style>\n",
       "<table border=\"1\" class=\"dataframe\">\n",
       "  <thead>\n",
       "    <tr style=\"text-align: right;\">\n",
       "      <th></th>\n",
       "      <th>Matrix</th>\n",
       "      <th>Alien</th>\n",
       "      <th>Star Wars</th>\n",
       "      <th>Casablanca</th>\n",
       "      <th>Titanic</th>\n",
       "    </tr>\n",
       "    <tr>\n",
       "      <th>Usuarios</th>\n",
       "      <th></th>\n",
       "      <th></th>\n",
       "      <th></th>\n",
       "      <th></th>\n",
       "      <th></th>\n",
       "    </tr>\n",
       "  </thead>\n",
       "  <tbody>\n",
       "    <tr>\n",
       "      <th>Juan</th>\n",
       "      <td>1</td>\n",
       "      <td>1</td>\n",
       "      <td>1</td>\n",
       "      <td>0</td>\n",
       "      <td>0</td>\n",
       "    </tr>\n",
       "    <tr>\n",
       "      <th>Jose</th>\n",
       "      <td>3</td>\n",
       "      <td>3</td>\n",
       "      <td>3</td>\n",
       "      <td>0</td>\n",
       "      <td>0</td>\n",
       "    </tr>\n",
       "    <tr>\n",
       "      <th>Lucas</th>\n",
       "      <td>4</td>\n",
       "      <td>4</td>\n",
       "      <td>4</td>\n",
       "      <td>0</td>\n",
       "      <td>0</td>\n",
       "    </tr>\n",
       "    <tr>\n",
       "      <th>Ana</th>\n",
       "      <td>5</td>\n",
       "      <td>5</td>\n",
       "      <td>5</td>\n",
       "      <td>0</td>\n",
       "      <td>0</td>\n",
       "    </tr>\n",
       "    <tr>\n",
       "      <th>Martina</th>\n",
       "      <td>0</td>\n",
       "      <td>2</td>\n",
       "      <td>0</td>\n",
       "      <td>4</td>\n",
       "      <td>4</td>\n",
       "    </tr>\n",
       "    <tr>\n",
       "      <th>Ines</th>\n",
       "      <td>0</td>\n",
       "      <td>0</td>\n",
       "      <td>0</td>\n",
       "      <td>5</td>\n",
       "      <td>5</td>\n",
       "    </tr>\n",
       "    <tr>\n",
       "      <th>Daniel</th>\n",
       "      <td>0</td>\n",
       "      <td>1</td>\n",
       "      <td>0</td>\n",
       "      <td>2</td>\n",
       "      <td>2</td>\n",
       "    </tr>\n",
       "  </tbody>\n",
       "</table>\n",
       "</div>"
      ],
      "text/plain": [
       "          Matrix   Alien  Star Wars  Casablanca  Titanic\n",
       "Usuarios                                                \n",
       "Juan            1      1          1           0        0\n",
       "Jose            3      3          3           0        0\n",
       "Lucas           4      4          4           0        0\n",
       "Ana             5      5          5           0        0\n",
       "Martina         0      2          0           4        4\n",
       "Ines            0      0          0           5        5\n",
       "Daniel          0      1          0           2        2"
      ]
     },
     "execution_count": 21,
     "metadata": {},
     "output_type": "execute_result"
    }
   ],
   "source": [
    "# Cargamos y visualizamos  los datos\n",
    "pelis2 = pd.read_csv('data/pelis2.csv')\n",
    "pelis2 = pelis2.set_index(\"Usuarios\")\n",
    "pelis2"
   ]
  },
  {
   "cell_type": "code",
   "execution_count": 22,
   "id": "d9fb6cd7",
   "metadata": {
    "tags": []
   },
   "outputs": [
    {
     "data": {
      "text/plain": [
       "3"
      ]
     },
     "execution_count": 22,
     "metadata": {},
     "output_type": "execute_result"
    }
   ],
   "source": [
    "np.linalg.matrix_rank(pelis2.to_numpy())"
   ]
  },
  {
   "cell_type": "code",
   "execution_count": 23,
   "id": "0b5448a6",
   "metadata": {
    "tags": []
   },
   "outputs": [
    {
     "name": "stdout",
     "output_type": "stream",
     "text": [
      "U, S, Vt =\n"
     ]
    },
    {
     "data": {
      "text/plain": [
       "(None,\n",
       " array([[-1.37599126e-01, -2.36114514e-02, -1.08084718e-02,\n",
       "          4.23650170e-01,  3.74825578e-01],\n",
       "        [-4.12797378e-01, -7.08343543e-02, -3.24254153e-02,\n",
       "          7.87769750e-01, -2.76928015e-01],\n",
       "        [-5.50396503e-01, -9.44458057e-02, -4.32338870e-02,\n",
       "         -3.51901709e-01, -6.44163726e-01],\n",
       "        [-6.87995629e-01, -1.18057257e-01, -5.40423588e-02,\n",
       "         -2.75870516e-01,  6.06522674e-01],\n",
       "        [-1.52775087e-01,  5.91100963e-01,  6.53650843e-01,\n",
       "          7.01483074e-17,  3.91329787e-17],\n",
       "        [-7.22165140e-02,  7.31311857e-01, -6.78209218e-01,\n",
       "          1.33331313e-17, -3.81204217e-17],\n",
       "        [-7.63875433e-02,  2.95550482e-01,  3.26825421e-01,\n",
       "          3.50741537e-17,  7.50776406e-17]]),\n",
       " array([1.24810147e+01, 9.50861406e+00, 1.34555971e+00, 3.29823625e-16,\n",
       "        6.06116585e-33]),\n",
       " array([[-5.62258405e-01, -5.92859901e-01, -5.62258405e-01,\n",
       "         -9.01335372e-02, -9.01335372e-02],\n",
       "        [-1.26641382e-01,  2.87705846e-02, -1.26641382e-01,\n",
       "          6.95376220e-01,  6.95376220e-01],\n",
       "        [-4.09667482e-01,  8.04791520e-01, -4.09667482e-01,\n",
       "         -9.12571001e-02, -9.12571001e-02],\n",
       "        [-7.07106781e-01,  7.19477719e-16,  7.07106781e-01,\n",
       "          3.03056328e-17, -2.52055184e-17],\n",
       "        [ 0.00000000e+00, -1.81541086e-16,  1.81541086e-16,\n",
       "         -7.07106781e-01,  7.07106781e-01]]))"
      ]
     },
     "execution_count": 23,
     "metadata": {},
     "output_type": "execute_result"
    }
   ],
   "source": [
    "U, S, Vt = np.linalg.svd(pelis2,full_matrices=False)\n",
    "print('U, S, Vt ='), U, S, Vt"
   ]
  },
  {
   "cell_type": "code",
   "execution_count": 24,
   "id": "b632cd5f",
   "metadata": {
    "tags": []
   },
   "outputs": [
    {
     "data": {
      "text/html": [
       "<div>\n",
       "<style scoped>\n",
       "    .dataframe tbody tr th:only-of-type {\n",
       "        vertical-align: middle;\n",
       "    }\n",
       "\n",
       "    .dataframe tbody tr th {\n",
       "        vertical-align: top;\n",
       "    }\n",
       "\n",
       "    .dataframe thead th {\n",
       "        text-align: right;\n",
       "    }\n",
       "</style>\n",
       "<table border=\"1\" class=\"dataframe\">\n",
       "  <thead>\n",
       "    <tr style=\"text-align: right;\">\n",
       "      <th></th>\n",
       "      <th>0</th>\n",
       "      <th>1</th>\n",
       "      <th>2</th>\n",
       "      <th>3</th>\n",
       "      <th>4</th>\n",
       "    </tr>\n",
       "  </thead>\n",
       "  <tbody>\n",
       "    <tr>\n",
       "      <th>0</th>\n",
       "      <td>1.0</td>\n",
       "      <td>1.0</td>\n",
       "      <td>1.0</td>\n",
       "      <td>0.0</td>\n",
       "      <td>0.0</td>\n",
       "    </tr>\n",
       "    <tr>\n",
       "      <th>1</th>\n",
       "      <td>3.0</td>\n",
       "      <td>3.0</td>\n",
       "      <td>3.0</td>\n",
       "      <td>-0.0</td>\n",
       "      <td>-0.0</td>\n",
       "    </tr>\n",
       "    <tr>\n",
       "      <th>2</th>\n",
       "      <td>4.0</td>\n",
       "      <td>4.0</td>\n",
       "      <td>4.0</td>\n",
       "      <td>0.0</td>\n",
       "      <td>0.0</td>\n",
       "    </tr>\n",
       "    <tr>\n",
       "      <th>3</th>\n",
       "      <td>5.0</td>\n",
       "      <td>5.0</td>\n",
       "      <td>5.0</td>\n",
       "      <td>0.0</td>\n",
       "      <td>0.0</td>\n",
       "    </tr>\n",
       "    <tr>\n",
       "      <th>4</th>\n",
       "      <td>0.0</td>\n",
       "      <td>2.0</td>\n",
       "      <td>-0.0</td>\n",
       "      <td>4.0</td>\n",
       "      <td>4.0</td>\n",
       "    </tr>\n",
       "    <tr>\n",
       "      <th>5</th>\n",
       "      <td>0.0</td>\n",
       "      <td>-0.0</td>\n",
       "      <td>0.0</td>\n",
       "      <td>5.0</td>\n",
       "      <td>5.0</td>\n",
       "    </tr>\n",
       "    <tr>\n",
       "      <th>6</th>\n",
       "      <td>0.0</td>\n",
       "      <td>1.0</td>\n",
       "      <td>-0.0</td>\n",
       "      <td>2.0</td>\n",
       "      <td>2.0</td>\n",
       "    </tr>\n",
       "  </tbody>\n",
       "</table>\n",
       "</div>"
      ],
      "text/plain": [
       "     0    1    2    3    4\n",
       "0  1.0  1.0  1.0  0.0  0.0\n",
       "1  3.0  3.0  3.0 -0.0 -0.0\n",
       "2  4.0  4.0  4.0  0.0  0.0\n",
       "3  5.0  5.0  5.0  0.0  0.0\n",
       "4  0.0  2.0 -0.0  4.0  4.0\n",
       "5  0.0 -0.0  0.0  5.0  5.0\n",
       "6  0.0  1.0 -0.0  2.0  2.0"
      ]
     },
     "execution_count": 24,
     "metadata": {},
     "output_type": "execute_result"
    }
   ],
   "source": [
    "n=3\n",
    "k=3\n",
    "S2= np.resize(S,[n,1])*np.eye(n,k) #ponemos los valores singulares en una matriz diagonal\n",
    "l=3\n",
    "pd.DataFrame(np.dot(U[:,0:l],np.dot(S2[0:l,0:l],Vt[0:l,:]))).round()"
   ]
  },
  {
   "cell_type": "markdown",
   "id": "d026d0b2",
   "metadata": {},
   "source": [
    "# Evaluación Sistemas de Recomendación\n",
    "\n",
    "\n",
    "- La evaluación de los sistemas de recomendación es otro paso importante para evaluar la efectividad del método. \n",
    "\n",
    "- En la literatura podemos ver dos tipologías principales: evaluación offline y online.\n",
    "\n",
    "\n",
    "##  Offline\n",
    "    - La evaluación offline es la que estamos acostumbrados en ML supervisado donde usamos un conjunto de entrenamiento y un conjunto de prueba; y aplicamos la métrica de evaluación apropiada. \n",
    "    Por ejemplo si se trata de etiquetas numéricas, como las calificaciones de 5 estrellas, la forma más común de validar un sistema de recomendación se basa en su valor de predicción, es decir, la capacidad de predecir las calificaciones del usuario. Las funciones estándar como el error cuadrático medio (RMSE), la precisión, las curvas ROC, etc...\n",
    "\n",
    "\n",
    "##  Online    \n",
    " \n",
    "    - La evaluación online es cuando utilizamos un conjunto de herramientas que nos permite observar las interacciones de los usuarios con el sistema. \n",
    "    - La técnica en línea más común se llama prueba A-B y tiene la ventaja de permitir la evaluación del sistema al mismo tiempo que los usuarios aprenden, compran o juegan con el sistema de recomendación. \n",
    "\n",
    "<div style=\"max-width:500px\">\n",
    "<img src = \"figs/AB.jpg\" />\n",
    "</div>\n",
    "\n",
    "    \n",
    "     - Esto acerca la evaluación al funcionamiento real del sistema y la hace realmente efectiva cuando el propósito del sistema es cambiar o influir en el comportamiento de los usuarios. \n",
    "    - Para evaluar la prueba, estamos interesados en medir cómo cambia el comportamiento del usuario cuando el usuario interactúa con diferentes sistemas de recomendación. Y require estimación de parámetros causales.\n",
    "\n",
    "<div style=\"max-width:500px\">\n",
    "<img src = \"figs/BING.png\" />\n",
    "</div>\n",
    "\n",
    "\n",
    "\n",
    "    \n",
    "        - En esta situación, las métricas fuera de línea como RMSE no son lo suficientemente buenas. En este caso, estamos particularmente interesados en la evaluación del objetivo global del sistema de recomendación, la retención de usuario.\n"
   ]
  }
 ],
 "metadata": {
  "kernelspec": {
   "display_name": "Python 3 (ipykernel)",
   "language": "python",
   "name": "python3"
  },
  "language_info": {
   "codemirror_mode": {
    "name": "ipython",
    "version": 3
   },
   "file_extension": ".py",
   "mimetype": "text/x-python",
   "name": "python",
   "nbconvert_exporter": "python",
   "pygments_lexer": "ipython3",
   "version": "3.11.7"
  },
  "toc": {
   "base_numbering": 1,
   "nav_menu": {},
   "number_sections": true,
   "sideBar": true,
   "skip_h1_title": false,
   "title_cell": "Table of Contents",
   "title_sidebar": "Contents",
   "toc_cell": false,
   "toc_position": {},
   "toc_section_display": true,
   "toc_window_display": false
  }
 },
 "nbformat": 4,
 "nbformat_minor": 5
}
